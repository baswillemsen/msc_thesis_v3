{
 "cells": [
  {
   "cell_type": "code",
   "execution_count": 1,
   "id": "f9d0ab8b",
   "metadata": {},
   "outputs": [],
   "source": [
    "import numpy as np\n",
    "import pandas as pd\n",
    "import seaborn as sns\n",
    "\n",
    "from definitions import figures_path_meth, data_source_path, target_countries, fig_size, \\\n",
    "show_plots, save_figs, show_results, target_var, country_col, date_col, incl_countries, incl_years, year_col, month_col\n",
    "from helper_functions import read_data, get_impl_date, get_trans, get_timescale, get_data_path, select_country_year_measure, downsample_month_to_quarter, select_country_year_measure\n",
    "from plot_functions import plot_corr\n",
    "from statistical_tests import stat_test\n",
    "\n",
    "import matplotlib.pyplot as plt\n",
    "plt.rcParams.update({'font.size': 15})\n",
    "\n",
    "from sklearn.preprocessing import StandardScaler"
   ]
  },
  {
   "cell_type": "code",
   "execution_count": 2,
   "id": "a2ee458e",
   "metadata": {},
   "outputs": [],
   "source": [
    "# # Monthly CO2 data\n",
    "# def preprocess_co2_m(source_file: str, source_country_col: str, source_year_col: str, var_name: str):\n",
    "#     # read data\n",
    "#     co2_m_raw = read_data(source_path=data_source_path, file_name=source_file)\n",
    "#     co2_m = co2_m_raw.copy()\n",
    "\n",
    "#     # lowercase, replace country names\n",
    "#     co2_m[source_country_col] = co2_m[source_country_col].str.lower()\n",
    "#     co2_m = co2_m.replace({source_country_col: corr_country_names})\n",
    "\n",
    "#     # select countries and year\n",
    "#     co2_m = select_country_year_measure(df=co2_m, country_col=source_country_col, year_col=source_year_col)\n",
    "#     # pivot\n",
    "#     co2_m = co2_m.melt(id_vars=[source_country_col, source_year_col],\n",
    "#                        value_vars=co2_m.drop([source_country_col, source_year_col], axis=1),\n",
    "#                        value_name=var_name)\n",
    "#     co2_m[month_col] = co2_m.apply(lambda row: month_name_to_num(row.variable), axis=1)\n",
    "#     co2_m[date_col] = pd.to_datetime(dict(year=co2_m[source_year_col], month=co2_m[month_col], day=1))\n",
    "#     co2_m = co2_m.drop('variable', axis=1)\n",
    "\n",
    "#     # rename, order and scale: output = [index, country, date, value]\n",
    "#     co2_m = rename_order_scale(df=co2_m, source_country_col=source_country_col, source_year_col=source_year_col,\n",
    "#                                var_name=var_name, var_scale=1e6, timeframe='m')\n",
    "#     # downsample monthly to quarterly\n",
    "#     co2_q = downsample_month_to_quarter(df_m=co2_m, var_name=var_name)\n",
    "\n",
    "#     # export to csv\n",
    "#     co2_m.to_csv(f'{get_data_path(timeframe=\"m\")}{var_name}_m.csv')\n",
    "#     co2_q.to_csv(f'{get_data_path(timeframe=\"q\")}{var_name}_q.csv')\n",
    "\n",
    "#     return co2_m, co2_q"
   ]
  },
  {
   "cell_type": "code",
   "execution_count": 9,
   "id": "98e7b8e5",
   "metadata": {},
   "outputs": [],
   "source": [
    "def preprocess_brent_m(source_file: str, source_date_col: str, var_name: str):\n",
    "    # read data\n",
    "    brent_m_raw = read_data(source_path=data_source_path, file_name=source_file)\n",
    "    brent_m = brent_m_raw.copy()\n",
    "    \n",
    "    brent_m = brent_m.rename(columns={\"DATE\": date_col, \"BRENT\": var_name})\n",
    "    \n",
    "    brent_m[date_col] = pd.to_datetime(brent_m[date_col])\n",
    "    brent_m[year_col] = brent_m[date_col].dt.year\n",
    "    brent_m[month_col] = brent_m[date_col].dt.month\n",
    "    \n",
    "    #select years\n",
    "    brent_m = select_country_year_measure(df=brent_m, year_col=year_col)\n",
    "    \n",
    "    #order\n",
    "#     brent_m = brent_m[[date_col, year_col, month_col, var_name]].reset_index(drop=True)\n",
    "    \n",
    "    # downsample to q\n",
    "    brent_q = downsample_month_to_quarter(df_m=brent_m, var_name=var_name)\n",
    "    \n",
    "    # export to csv\n",
    "    brent_m.to_csv(f'{get_data_path(timeframe=\"m\")}{var_name}_m.csv')\n",
    "    brent_q.to_csv(f'{get_data_path(timeframe=\"q\")}{var_name}_q.csv')\n",
    "    \n",
    "    return brent_m, brent_q"
   ]
  },
  {
   "cell_type": "code",
   "execution_count": 10,
   "id": "cb4c1387",
   "metadata": {},
   "outputs": [
    {
     "data": {
      "text/html": [
       "<div>\n",
       "<style scoped>\n",
       "    .dataframe tbody tr th:only-of-type {\n",
       "        vertical-align: middle;\n",
       "    }\n",
       "\n",
       "    .dataframe tbody tr th {\n",
       "        vertical-align: top;\n",
       "    }\n",
       "\n",
       "    .dataframe thead th {\n",
       "        text-align: right;\n",
       "    }\n",
       "</style>\n",
       "<table border=\"1\" class=\"dataframe\">\n",
       "  <thead>\n",
       "    <tr style=\"text-align: right;\">\n",
       "      <th></th>\n",
       "      <th>date</th>\n",
       "      <th>year</th>\n",
       "      <th>month</th>\n",
       "      <th>brent</th>\n",
       "    </tr>\n",
       "  </thead>\n",
       "  <tbody>\n",
       "    <tr>\n",
       "      <th>0</th>\n",
       "      <td>2000-01-01</td>\n",
       "      <td>2000</td>\n",
       "      <td>1</td>\n",
       "      <td>25.51</td>\n",
       "    </tr>\n",
       "    <tr>\n",
       "      <th>1</th>\n",
       "      <td>2000-02-01</td>\n",
       "      <td>2000</td>\n",
       "      <td>2</td>\n",
       "      <td>27.78</td>\n",
       "    </tr>\n",
       "    <tr>\n",
       "      <th>2</th>\n",
       "      <td>2000-03-01</td>\n",
       "      <td>2000</td>\n",
       "      <td>3</td>\n",
       "      <td>27.49</td>\n",
       "    </tr>\n",
       "    <tr>\n",
       "      <th>3</th>\n",
       "      <td>2000-04-01</td>\n",
       "      <td>2000</td>\n",
       "      <td>4</td>\n",
       "      <td>22.76</td>\n",
       "    </tr>\n",
       "    <tr>\n",
       "      <th>4</th>\n",
       "      <td>2000-05-01</td>\n",
       "      <td>2000</td>\n",
       "      <td>5</td>\n",
       "      <td>27.74</td>\n",
       "    </tr>\n",
       "    <tr>\n",
       "      <th>...</th>\n",
       "      <td>...</td>\n",
       "      <td>...</td>\n",
       "      <td>...</td>\n",
       "      <td>...</td>\n",
       "    </tr>\n",
       "    <tr>\n",
       "      <th>235</th>\n",
       "      <td>2019-08-01</td>\n",
       "      <td>2019</td>\n",
       "      <td>8</td>\n",
       "      <td>59.04</td>\n",
       "    </tr>\n",
       "    <tr>\n",
       "      <th>236</th>\n",
       "      <td>2019-09-01</td>\n",
       "      <td>2019</td>\n",
       "      <td>9</td>\n",
       "      <td>62.83</td>\n",
       "    </tr>\n",
       "    <tr>\n",
       "      <th>237</th>\n",
       "      <td>2019-10-01</td>\n",
       "      <td>2019</td>\n",
       "      <td>10</td>\n",
       "      <td>59.71</td>\n",
       "    </tr>\n",
       "    <tr>\n",
       "      <th>238</th>\n",
       "      <td>2019-11-01</td>\n",
       "      <td>2019</td>\n",
       "      <td>11</td>\n",
       "      <td>63.21</td>\n",
       "    </tr>\n",
       "    <tr>\n",
       "      <th>239</th>\n",
       "      <td>2019-12-01</td>\n",
       "      <td>2019</td>\n",
       "      <td>12</td>\n",
       "      <td>67.31</td>\n",
       "    </tr>\n",
       "  </tbody>\n",
       "</table>\n",
       "<p>240 rows × 4 columns</p>\n",
       "</div>"
      ],
      "text/plain": [
       "          date  year  month  brent\n",
       "0   2000-01-01  2000      1  25.51\n",
       "1   2000-02-01  2000      2  27.78\n",
       "2   2000-03-01  2000      3  27.49\n",
       "3   2000-04-01  2000      4  22.76\n",
       "4   2000-05-01  2000      5  27.74\n",
       "..         ...   ...    ...    ...\n",
       "235 2019-08-01  2019      8  59.04\n",
       "236 2019-09-01  2019      9  62.83\n",
       "237 2019-10-01  2019     10  59.71\n",
       "238 2019-11-01  2019     11  63.21\n",
       "239 2019-12-01  2019     12  67.31\n",
       "\n",
       "[240 rows x 4 columns]"
      ]
     },
     "execution_count": 10,
     "metadata": {},
     "output_type": "execute_result"
    }
   ],
   "source": [
    "brent_m, brent_q = preprocess_brent_m(source_file='brent_1990_2023', source_date_col='DATE', var_name='brent')\n",
    "brent_m"
   ]
  },
  {
   "cell_type": "code",
   "execution_count": 117,
   "id": "8f385171",
   "metadata": {},
   "outputs": [
    {
     "data": {
      "text/plain": [
       "'country'"
      ]
     },
     "execution_count": 117,
     "metadata": {},
     "output_type": "execute_result"
    }
   ],
   "source": [
    "country_col"
   ]
  },
  {
   "cell_type": "code",
   "execution_count": 18,
   "id": "475e3d13",
   "metadata": {},
   "outputs": [
    {
     "data": {
      "text/plain": [
       "['date', 'year', 'month']"
      ]
     },
     "execution_count": 18,
     "metadata": {},
     "output_type": "execute_result"
    }
   ],
   "source": [
    "key_cols = [country_col, date_col, year_col, month_col]\n",
    "key_cols.remove(country_col)\n",
    "key_cols"
   ]
  },
  {
   "cell_type": "code",
   "execution_count": 34,
   "id": "02a4d231",
   "metadata": {},
   "outputs": [
    {
     "data": {
      "text/plain": [
       "'non_stationary'"
      ]
     },
     "execution_count": 34,
     "metadata": {},
     "output_type": "execute_result"
    }
   ],
   "source": [
    "x = np.log(brent_m.set_index(date_col)['brent']).diff(12).dropna()\n",
    "x\n",
    "stat_test(x=x, sign_level=0.05)"
   ]
  },
  {
   "cell_type": "code",
   "execution_count": null,
   "id": "7553c3eb",
   "metadata": {},
   "outputs": [],
   "source": []
  }
 ],
 "metadata": {
  "kernelspec": {
   "display_name": "Python 3 (ipykernel)",
   "language": "python",
   "name": "python3"
  },
  "language_info": {
   "codemirror_mode": {
    "name": "ipython",
    "version": 3
   },
   "file_extension": ".py",
   "mimetype": "text/x-python",
   "name": "python",
   "nbconvert_exporter": "python",
   "pygments_lexer": "ipython3",
   "version": "3.9.13"
  }
 },
 "nbformat": 4,
 "nbformat_minor": 5
}
