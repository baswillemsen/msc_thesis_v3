{
 "cells": [
  {
   "cell_type": "code",
   "execution_count": 2,
   "id": "f702043c",
   "metadata": {},
   "outputs": [],
   "source": [
    "import pandas as pd\n",
    "import numpy as np\n",
    "\n",
    "from definitions import show_output, save_output, country_col, date_col, timeframe_val, sign_level\n",
    "from util_general import read_data, get_timescale, get_trans, get_impl_date, get_data_path, get_table_path\n",
    "\n",
    "from statsmodels.tsa.stattools import adfuller\n",
    "from scipy.stats import shapiro\n",
    "from scipy.stats import ttest_1samp, ttest_ind"
   ]
  },
  {
   "cell_type": "code",
   "execution_count": 3,
   "id": "6440ef0b",
   "metadata": {},
   "outputs": [],
   "source": [
    "from statsmodels.stats.stattools import durbin_watson"
   ]
  },
  {
   "cell_type": "code",
   "execution_count": 112,
   "id": "4552855a",
   "metadata": {},
   "outputs": [],
   "source": [
    "timeframe = 'm'\n",
    "model = 'arco'\n",
    "country = 'france'\n",
    "impl_date = get_impl_date(treatment_country=country)"
   ]
  },
  {
   "cell_type": "code",
   "execution_count": 113,
   "id": "03ccb0eb",
   "metadata": {},
   "outputs": [
    {
     "data": {
      "text/html": [
       "<div>\n",
       "<style scoped>\n",
       "    .dataframe tbody tr th:only-of-type {\n",
       "        vertical-align: middle;\n",
       "    }\n",
       "\n",
       "    .dataframe tbody tr th {\n",
       "        vertical-align: top;\n",
       "    }\n",
       "\n",
       "    .dataframe thead th {\n",
       "        text-align: right;\n",
       "    }\n",
       "</style>\n",
       "<table border=\"1\" class=\"dataframe\">\n",
       "  <thead>\n",
       "    <tr style=\"text-align: right;\">\n",
       "      <th></th>\n",
       "      <th>date</th>\n",
       "      <th>act</th>\n",
       "      <th>pred</th>\n",
       "      <th>error</th>\n",
       "    </tr>\n",
       "  </thead>\n",
       "  <tbody>\n",
       "    <tr>\n",
       "      <th>0</th>\n",
       "      <td>2001-01-01</td>\n",
       "      <td>-0.095988</td>\n",
       "      <td>-0.033355</td>\n",
       "      <td>-0.062632</td>\n",
       "    </tr>\n",
       "    <tr>\n",
       "      <th>1</th>\n",
       "      <td>2001-02-01</td>\n",
       "      <td>-0.002600</td>\n",
       "      <td>-0.018806</td>\n",
       "      <td>0.016206</td>\n",
       "    </tr>\n",
       "    <tr>\n",
       "      <th>2</th>\n",
       "      <td>2001-03-01</td>\n",
       "      <td>-0.077666</td>\n",
       "      <td>-0.015246</td>\n",
       "      <td>-0.062421</td>\n",
       "    </tr>\n",
       "    <tr>\n",
       "      <th>3</th>\n",
       "      <td>2001-04-01</td>\n",
       "      <td>0.024467</td>\n",
       "      <td>0.028466</td>\n",
       "      <td>-0.003999</td>\n",
       "    </tr>\n",
       "    <tr>\n",
       "      <th>4</th>\n",
       "      <td>2001-05-01</td>\n",
       "      <td>0.039254</td>\n",
       "      <td>0.016596</td>\n",
       "      <td>0.022657</td>\n",
       "    </tr>\n",
       "    <tr>\n",
       "      <th>...</th>\n",
       "      <td>...</td>\n",
       "      <td>...</td>\n",
       "      <td>...</td>\n",
       "      <td>...</td>\n",
       "    </tr>\n",
       "    <tr>\n",
       "      <th>221</th>\n",
       "      <td>2019-06-01</td>\n",
       "      <td>-0.012004</td>\n",
       "      <td>-0.014146</td>\n",
       "      <td>0.002142</td>\n",
       "    </tr>\n",
       "    <tr>\n",
       "      <th>222</th>\n",
       "      <td>2019-07-01</td>\n",
       "      <td>-0.015659</td>\n",
       "      <td>-0.002886</td>\n",
       "      <td>-0.012773</td>\n",
       "    </tr>\n",
       "    <tr>\n",
       "      <th>223</th>\n",
       "      <td>2019-08-01</td>\n",
       "      <td>-0.004483</td>\n",
       "      <td>-0.018182</td>\n",
       "      <td>0.013699</td>\n",
       "    </tr>\n",
       "    <tr>\n",
       "      <th>224</th>\n",
       "      <td>2019-09-01</td>\n",
       "      <td>-0.013584</td>\n",
       "      <td>-0.012732</td>\n",
       "      <td>-0.000852</td>\n",
       "    </tr>\n",
       "    <tr>\n",
       "      <th>225</th>\n",
       "      <td>2019-10-01</td>\n",
       "      <td>-0.015107</td>\n",
       "      <td>-0.017006</td>\n",
       "      <td>0.001899</td>\n",
       "    </tr>\n",
       "  </tbody>\n",
       "</table>\n",
       "<p>226 rows × 4 columns</p>\n",
       "</div>"
      ],
      "text/plain": [
       "           date       act      pred     error\n",
       "0    2001-01-01 -0.095988 -0.033355 -0.062632\n",
       "1    2001-02-01 -0.002600 -0.018806  0.016206\n",
       "2    2001-03-01 -0.077666 -0.015246 -0.062421\n",
       "3    2001-04-01  0.024467  0.028466 -0.003999\n",
       "4    2001-05-01  0.039254  0.016596  0.022657\n",
       "..          ...       ...       ...       ...\n",
       "221  2019-06-01 -0.012004 -0.014146  0.002142\n",
       "222  2019-07-01 -0.015659 -0.002886 -0.012773\n",
       "223  2019-08-01 -0.004483 -0.018182  0.013699\n",
       "224  2019-09-01 -0.013584 -0.012732 -0.000852\n",
       "225  2019-10-01 -0.015107 -0.017006  0.001899\n",
       "\n",
       "[226 rows x 4 columns]"
      ]
     },
     "execution_count": 113,
     "metadata": {},
     "output_type": "execute_result"
    }
   ],
   "source": [
    "df = read_data(source_path=get_table_path(timeframe=timeframe, folder='results', country=country, model=model), \n",
    "               file_name=f'{model}_{country}_{timeframe}_act_pred_log_diff')\n",
    "\n",
    "df_pre = df[df[date_col] < impl_date]\n",
    "df_post = df[df[date_col] >= impl_date]\n",
    "\n",
    "df"
   ]
  },
  {
   "cell_type": "code",
   "execution_count": 114,
   "id": "2fb655cb",
   "metadata": {},
   "outputs": [
    {
     "name": "stdout",
     "output_type": "stream",
     "text": [
      "1.615902793720666\n"
     ]
    },
    {
     "data": {
      "text/html": [
       "<div>\n",
       "<style scoped>\n",
       "    .dataframe tbody tr th:only-of-type {\n",
       "        vertical-align: middle;\n",
       "    }\n",
       "\n",
       "    .dataframe tbody tr th {\n",
       "        vertical-align: top;\n",
       "    }\n",
       "\n",
       "    .dataframe thead th {\n",
       "        text-align: right;\n",
       "    }\n",
       "</style>\n",
       "<table border=\"1\" class=\"dataframe\">\n",
       "  <thead>\n",
       "    <tr style=\"text-align: right;\">\n",
       "      <th></th>\n",
       "      <th>date</th>\n",
       "      <th>act</th>\n",
       "      <th>pred</th>\n",
       "      <th>error</th>\n",
       "    </tr>\n",
       "  </thead>\n",
       "  <tbody>\n",
       "    <tr>\n",
       "      <th>0</th>\n",
       "      <td>2001-01-01</td>\n",
       "      <td>-0.095988</td>\n",
       "      <td>-0.033355</td>\n",
       "      <td>-0.062632</td>\n",
       "    </tr>\n",
       "    <tr>\n",
       "      <th>1</th>\n",
       "      <td>2001-02-01</td>\n",
       "      <td>-0.002600</td>\n",
       "      <td>-0.018806</td>\n",
       "      <td>0.016206</td>\n",
       "    </tr>\n",
       "    <tr>\n",
       "      <th>2</th>\n",
       "      <td>2001-03-01</td>\n",
       "      <td>-0.077666</td>\n",
       "      <td>-0.015246</td>\n",
       "      <td>-0.062421</td>\n",
       "    </tr>\n",
       "    <tr>\n",
       "      <th>3</th>\n",
       "      <td>2001-04-01</td>\n",
       "      <td>0.024467</td>\n",
       "      <td>0.028466</td>\n",
       "      <td>-0.003999</td>\n",
       "    </tr>\n",
       "    <tr>\n",
       "      <th>4</th>\n",
       "      <td>2001-05-01</td>\n",
       "      <td>0.039254</td>\n",
       "      <td>0.016596</td>\n",
       "      <td>0.022657</td>\n",
       "    </tr>\n",
       "    <tr>\n",
       "      <th>...</th>\n",
       "      <td>...</td>\n",
       "      <td>...</td>\n",
       "      <td>...</td>\n",
       "      <td>...</td>\n",
       "    </tr>\n",
       "    <tr>\n",
       "      <th>154</th>\n",
       "      <td>2013-11-01</td>\n",
       "      <td>0.016778</td>\n",
       "      <td>-0.004370</td>\n",
       "      <td>0.021149</td>\n",
       "    </tr>\n",
       "    <tr>\n",
       "      <th>155</th>\n",
       "      <td>2013-12-01</td>\n",
       "      <td>-0.004513</td>\n",
       "      <td>-0.021874</td>\n",
       "      <td>0.017362</td>\n",
       "    </tr>\n",
       "    <tr>\n",
       "      <th>156</th>\n",
       "      <td>2014-01-01</td>\n",
       "      <td>-0.108072</td>\n",
       "      <td>-0.083580</td>\n",
       "      <td>-0.024492</td>\n",
       "    </tr>\n",
       "    <tr>\n",
       "      <th>157</th>\n",
       "      <td>2014-02-01</td>\n",
       "      <td>-0.154661</td>\n",
       "      <td>-0.115938</td>\n",
       "      <td>-0.038723</td>\n",
       "    </tr>\n",
       "    <tr>\n",
       "      <th>158</th>\n",
       "      <td>2014-03-01</td>\n",
       "      <td>-0.110022</td>\n",
       "      <td>-0.131578</td>\n",
       "      <td>0.021556</td>\n",
       "    </tr>\n",
       "  </tbody>\n",
       "</table>\n",
       "<p>159 rows × 4 columns</p>\n",
       "</div>"
      ],
      "text/plain": [
       "           date       act      pred     error\n",
       "0    2001-01-01 -0.095988 -0.033355 -0.062632\n",
       "1    2001-02-01 -0.002600 -0.018806  0.016206\n",
       "2    2001-03-01 -0.077666 -0.015246 -0.062421\n",
       "3    2001-04-01  0.024467  0.028466 -0.003999\n",
       "4    2001-05-01  0.039254  0.016596  0.022657\n",
       "..          ...       ...       ...       ...\n",
       "154  2013-11-01  0.016778 -0.004370  0.021149\n",
       "155  2013-12-01 -0.004513 -0.021874  0.017362\n",
       "156  2014-01-01 -0.108072 -0.083580 -0.024492\n",
       "157  2014-02-01 -0.154661 -0.115938 -0.038723\n",
       "158  2014-03-01 -0.110022 -0.131578  0.021556\n",
       "\n",
       "[159 rows x 4 columns]"
      ]
     },
     "execution_count": 114,
     "metadata": {},
     "output_type": "execute_result"
    }
   ],
   "source": [
    "# Durbin-Watson test\n",
    "print(durbin_watson(df_pre['error']))\n",
    "\n",
    "df_pre"
   ]
  },
  {
   "cell_type": "code",
   "execution_count": 118,
   "id": "32fda056",
   "metadata": {},
   "outputs": [
    {
     "name": "stdout",
     "output_type": "stream",
     "text": [
      "-0.7350087901435856\n",
      "-0.010970280449904266\n",
      "0.041753116498837464\n"
     ]
    }
   ],
   "source": [
    "print(np.sum(df_post['error']))\n",
    "print(np.mean(df_post['error']))\n",
    "print(np.std(df_post['error']))"
   ]
  },
  {
   "cell_type": "code",
   "execution_count": 119,
   "id": "14701ae0",
   "metadata": {},
   "outputs": [
    {
     "data": {
      "text/plain": [
       "<AxesSubplot:>"
      ]
     },
     "execution_count": 119,
     "metadata": {},
     "output_type": "execute_result"
    },
    {
     "data": {
      "image/png": "[encoded data removed]",
      "text/plain": [
       "<Figure size 640x480 with 1 Axes>"
      ]
     },
     "metadata": {},
     "output_type": "display_data"
    }
   ],
   "source": [
    "df['error'].plot()"
   ]
  },
  {
   "cell_type": "code",
   "execution_count": 120,
   "id": "b44d547b",
   "metadata": {},
   "outputs": [
    {
     "data": {
      "text/plain": [
       "<AxesSubplot:>"
      ]
     },
     "execution_count": 120,
     "metadata": {},
     "output_type": "execute_result"
    },
    {
     "data": {
      "image/png": "[encoded data removed]",
      "text/plain": [
       "<Figure size 640x480 with 1 Axes>"
      ]
     },
     "metadata": {},
     "output_type": "display_data"
    }
   ],
   "source": [
    "df_post['error'].cumsum().plot()"
   ]
  },
  {
   "cell_type": "code",
   "execution_count": 134,
   "id": "3c828cbe",
   "metadata": {},
   "outputs": [],
   "source": [
    "# Advanced t-test\n",
    "T = len(df)\n",
    "T_1 = len(df_pre)\n",
    "T_2 = len(df_post)\n",
    "dof = 66\n",
    "\n",
    "gamma_1 = sum(df_pre['error']**2)/T_1\n",
    "gamma_2 = sum(df_post['error']**2)/T_2\n",
    "\n",
    "omega_hat = gamma_1 / (T_1/T) + gamma_2 / (T_2/T)\n",
    "omega_hat_sqrt = np.sqrt(omega_hat)"
   ]
  },
  {
   "cell_type": "code",
   "execution_count": 135,
   "id": "856b85ac",
   "metadata": {},
   "outputs": [
    {
     "name": "stdout",
     "output_type": "stream",
     "text": [
      "-0.010970280449904266\n",
      "0.041753116498837464\n",
      "0.08843796411469569\n"
     ]
    }
   ],
   "source": [
    "print(np.mean(df_post['error']))\n",
    "print(np.std(df_post['error']))\n",
    "print(omega_hat_sqrt)"
   ]
  },
  {
   "cell_type": "code",
   "execution_count": 136,
   "id": "dbb6fcd9",
   "metadata": {},
   "outputs": [
    {
     "name": "stdout",
     "output_type": "stream",
     "text": [
      "TtestResult(statistic=-2.1345228130966163, pvalue=0.03651818773002728, df=66)\n"
     ]
    }
   ],
   "source": [
    "t_stat = ttest_1samp(df_post['error'], popmean=0, alternative='two-sided')\n",
    "print(t_stat)"
   ]
  },
  {
   "cell_type": "code",
   "execution_count": 137,
   "id": "f37ad3a3",
   "metadata": {},
   "outputs": [
    {
     "name": "stdout",
     "output_type": "stream",
     "text": [
      "-2.150632647777136\n"
     ]
    }
   ],
   "source": [
    "t_stat = np.mean(df_post['error']) / (np.std(df_post['error']) / np.sqrt(T_2))\n",
    "print(t_stat)"
   ]
  },
  {
   "cell_type": "code",
   "execution_count": 138,
   "id": "e9590595",
   "metadata": {},
   "outputs": [
    {
     "name": "stdout",
     "output_type": "stream",
     "text": [
      "-1.8648040918648459\n",
      "0.0666558286617116\n"
     ]
    }
   ],
   "source": [
    "from scipy.stats import t\n",
    "\n",
    "t_stat = np.mean(df_post['error']) / (omega_hat_sqrt / np.sqrt(T))\n",
    "print(t_stat)\n",
    "print(2*(1 - t.cdf(abs(t_stat), dof)))"
   ]
  },
  {
   "cell_type": "code",
   "execution_count": 140,
   "id": "fa90265f",
   "metadata": {},
   "outputs": [
    {
     "data": {
      "text/plain": [
       "67"
      ]
     },
     "execution_count": 140,
     "metadata": {},
     "output_type": "execute_result"
    }
   ],
   "source": [
    "T_2"
   ]
  },
  {
   "cell_type": "code",
   "execution_count": null,
   "id": "9c489e18",
   "metadata": {},
   "outputs": [],
   "source": []
  },
  {
   "cell_type": "code",
   "execution_count": null,
   "id": "4d8ca1e7",
   "metadata": {},
   "outputs": [],
   "source": []
  }
 ],
 "metadata": {
  "kernelspec": {
   "display_name": "Python 3 (ipykernel)",
   "language": "python",
   "name": "python3"
  },
  "language_info": {
   "codemirror_mode": {
    "name": "ipython",
    "version": 3
   },
   "file_extension": ".py",
   "mimetype": "text/x-python",
   "name": "python",
   "nbconvert_exporter": "python",
   "pygments_lexer": "ipython3",
   "version": "3.9.13"
  }
 },
 "nbformat": 4,
 "nbformat_minor": 5
}
